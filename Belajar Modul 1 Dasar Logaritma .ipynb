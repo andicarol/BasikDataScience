{
 "cells": [
  {
   "cell_type": "markdown",
   "id": "46304f83",
   "metadata": {},
   "source": [
    "# Latihan Basic  variable dan Tipe Data"
   ]
  },
  {
   "cell_type": "code",
   "execution_count": 3,
   "id": "832cf99f",
   "metadata": {},
   "outputs": [],
   "source": [
    "#contoh Variable \n",
    "\n",
    "a = \"andi\"\n",
    "b = \"carol\" \n",
    "c = 'hujan'\n",
    "x = 1992 \n"
   ]
  },
  {
   "cell_type": "code",
   "execution_count": 6,
   "id": "305086ea",
   "metadata": {},
   "outputs": [
    {
     "name": "stdout",
     "output_type": "stream",
     "text": [
      "andi carol hujan\n",
      "1992\n"
     ]
    }
   ],
   "source": [
    "#print Variable untuk memanggil value\n",
    "print (a,b,c)\n",
    "print (x)"
   ]
  },
  {
   "cell_type": "code",
   "execution_count": 7,
   "id": "7e3e019a",
   "metadata": {},
   "outputs": [],
   "source": [
    "#Penamaan Variable bisa di buat 1 baris \n",
    "x, y, z = \"carol\", 29, \"Tahun\""
   ]
  },
  {
   "cell_type": "code",
   "execution_count": 8,
   "id": "7778b53a",
   "metadata": {},
   "outputs": [
    {
     "name": "stdout",
     "output_type": "stream",
     "text": [
      "carol 29 Tahun\n"
     ]
    }
   ],
   "source": [
    "print (x,y,z)"
   ]
  },
  {
   "cell_type": "code",
   "execution_count": 160,
   "id": "268edf35",
   "metadata": {},
   "outputs": [],
   "source": [
    "# tipe varibale (String)\n",
    "Nama = \"andi\"\n",
    "angka = \"55555\"\n",
    "hari = \"jum'at\"\n",
    "rata_rata = 'rata\"'\n"
   ]
  },
  {
   "cell_type": "code",
   "execution_count": 10,
   "id": "b97b6dc9",
   "metadata": {},
   "outputs": [
    {
     "name": "stdout",
     "output_type": "stream",
     "text": [
      "jum'at\n",
      "rata\"\n"
     ]
    }
   ],
   "source": [
    "print(hari)\n",
    "print(rata_rata)"
   ]
  },
  {
   "cell_type": "code",
   "execution_count": 11,
   "id": "b6a1106e",
   "metadata": {},
   "outputs": [],
   "source": [
    "#tipe variable (integer)\n",
    "bil1 = 2\n",
    "bil2 = 4"
   ]
  },
  {
   "cell_type": "code",
   "execution_count": 14,
   "id": "76b6d3a4",
   "metadata": {},
   "outputs": [
    {
     "name": "stdout",
     "output_type": "stream",
     "text": [
      "6\n",
      "2\n",
      "4\n"
     ]
    }
   ],
   "source": [
    "print (bil1 + bil2)\n",
    "print(bil1)\n",
    "print(bil2)"
   ]
  },
  {
   "cell_type": "code",
   "execution_count": 15,
   "id": "d8af3ca5",
   "metadata": {},
   "outputs": [],
   "source": [
    "#tipe variable (float), penulisan bukan menggunakan koma melain kan menggunakan titik\n",
    "angka1 = 1.5\n",
    "angka2 = 3.3"
   ]
  },
  {
   "cell_type": "code",
   "execution_count": 16,
   "id": "547e0cea",
   "metadata": {},
   "outputs": [
    {
     "name": "stdout",
     "output_type": "stream",
     "text": [
      "3.3\n",
      "1.5\n",
      "4.949999999999999\n"
     ]
    }
   ],
   "source": [
    "print (angka2)\n",
    "print(angka1)\n",
    "print (angka1 * angka2)"
   ]
  },
  {
   "cell_type": "code",
   "execution_count": 57,
   "id": "5b732bbc",
   "metadata": {},
   "outputs": [],
   "source": [
    "#tipe variable (Boolean)\n",
    "angka1 = 1\n",
    "benar = False \n",
    "komparasi = (angka1==1)"
   ]
  },
  {
   "cell_type": "code",
   "execution_count": 59,
   "id": "04b7da35",
   "metadata": {},
   "outputs": [
    {
     "data": {
      "text/plain": [
       "True"
      ]
     },
     "execution_count": 59,
     "metadata": {},
     "output_type": "execute_result"
    }
   ],
   "source": [
    "angka1 == 1"
   ]
  },
  {
   "cell_type": "code",
   "execution_count": 48,
   "id": "e4a2219c",
   "metadata": {},
   "outputs": [],
   "source": [
    "#tipe data di phyton \n",
    "#list        : penulisan [] mutable,nasted\n",
    "#tuple        : penulisan () immutable, nasted\n",
    "#set          : penulisan {} tidak menyimpan nilai duplicate\n",
    "#dictionary   : penulisan {} pasangan key dan values"
   ]
  },
  {
   "cell_type": "code",
   "execution_count": 96,
   "id": "c0aaadfb",
   "metadata": {},
   "outputs": [],
   "source": [
    "#contoh tipe data LIST \n",
    "biodata = ['andi', 65, 170]"
   ]
  },
  {
   "cell_type": "code",
   "execution_count": 97,
   "id": "c5028aa1",
   "metadata": {},
   "outputs": [
    {
     "name": "stdout",
     "output_type": "stream",
     "text": [
      "andi 65 170\n",
      "170\n"
     ]
    }
   ],
   "source": [
    "print(biodata[0],biodata[1],biodata[2])\n",
    "print (biodata [2])"
   ]
  },
  {
   "cell_type": "code",
   "execution_count": 98,
   "id": "a6a2d647",
   "metadata": {},
   "outputs": [],
   "source": [
    "#value di LIST bisa di ubah\n",
    "biodata[1]=180"
   ]
  },
  {
   "cell_type": "code",
   "execution_count": 99,
   "id": "de9344cf",
   "metadata": {},
   "outputs": [
    {
     "name": "stdout",
     "output_type": "stream",
     "text": [
      "['andi', 180, 170]\n"
     ]
    }
   ],
   "source": [
    "print(biodata)"
   ]
  },
  {
   "cell_type": "code",
   "execution_count": 112,
   "id": "39ff46b4",
   "metadata": {},
   "outputs": [],
   "source": [
    "#contoh tipe data TUPLE\n",
    "biodata = ('andi', 17, 170)"
   ]
  },
  {
   "cell_type": "code",
   "execution_count": 113,
   "id": "be7594ba",
   "metadata": {},
   "outputs": [
    {
     "name": "stdout",
     "output_type": "stream",
     "text": [
      "17 andi\n"
     ]
    }
   ],
   "source": [
    "print (biodata[1], biodata[0])"
   ]
  },
  {
   "cell_type": "code",
   "execution_count": 111,
   "id": "0a2c382b",
   "metadata": {},
   "outputs": [
    {
     "ename": "TypeError",
     "evalue": "'tuple' object does not support item assignment",
     "output_type": "error",
     "traceback": [
      "\u001b[1;31m---------------------------------------------------------------------------\u001b[0m",
      "\u001b[1;31mTypeError\u001b[0m                                 Traceback (most recent call last)",
      "\u001b[1;32m~\\AppData\\Local\\Temp/ipykernel_9860/52438972.py\u001b[0m in \u001b[0;36m<module>\u001b[1;34m\u001b[0m\n\u001b[0;32m      1\u001b[0m \u001b[1;31m#value di TUPLE ttidak bisa di\u001b[0m\u001b[1;33m\u001b[0m\u001b[1;33m\u001b[0m\u001b[0m\n\u001b[1;32m----> 2\u001b[1;33m \u001b[0mbiodata\u001b[0m\u001b[1;33m[\u001b[0m\u001b[1;36m1\u001b[0m\u001b[1;33m]\u001b[0m \u001b[1;33m=\u001b[0m \u001b[1;36m2\u001b[0m\u001b[1;33m\u001b[0m\u001b[1;33m\u001b[0m\u001b[0m\n\u001b[0m",
      "\u001b[1;31mTypeError\u001b[0m: 'tuple' object does not support item assignment"
     ]
    }
   ],
   "source": [
    "#value di TUPLE ttidak bisa di \n",
    "biodata[1] = 2"
   ]
  },
  {
   "cell_type": "code",
   "execution_count": 155,
   "id": "077d8793",
   "metadata": {},
   "outputs": [],
   "source": [
    " #contoh tipe data SET\n",
    "biodata = {'andi', 45, 170, 'andi'}"
   ]
  },
  {
   "cell_type": "code",
   "execution_count": 156,
   "id": "7cb30699",
   "metadata": {},
   "outputs": [
    {
     "name": "stdout",
     "output_type": "stream",
     "text": [
      "{'andi', 170, 45}\n"
     ]
    }
   ],
   "source": [
    "#value di SET yang duplicate di baca 1 kali\n",
    "print(biodata)"
   ]
  },
  {
   "cell_type": "code",
   "execution_count": 158,
   "id": "dbc56318",
   "metadata": {},
   "outputs": [
    {
     "ename": "TypeError",
     "evalue": "'set' object does not support item assignment",
     "output_type": "error",
     "traceback": [
      "\u001b[1;31m---------------------------------------------------------------------------\u001b[0m",
      "\u001b[1;31mTypeError\u001b[0m                                 Traceback (most recent call last)",
      "\u001b[1;32m~\\AppData\\Local\\Temp/ipykernel_9860/1003246629.py\u001b[0m in \u001b[0;36m<module>\u001b[1;34m\u001b[0m\n\u001b[1;32m----> 1\u001b[1;33m \u001b[0mbiodata\u001b[0m\u001b[1;33m[\u001b[0m\u001b[1;36m1\u001b[0m\u001b[1;33m]\u001b[0m \u001b[1;33m=\u001b[0m \u001b[1;36m3\u001b[0m\u001b[1;33m\u001b[0m\u001b[1;33m\u001b[0m\u001b[0m\n\u001b[0m",
      "\u001b[1;31mTypeError\u001b[0m: 'set' object does not support item assignment"
     ]
    }
   ],
   "source": [
    "#Values SET tidak bisa di ubah\n",
    "biodata[1] = 3"
   ]
  },
  {
   "cell_type": "code",
   "execution_count": 159,
   "id": "c5d8ea68",
   "metadata": {},
   "outputs": [
    {
     "name": "stdout",
     "output_type": "stream",
     "text": [
      "{'andi', 170, 45}\n"
     ]
    }
   ],
   "source": [
    "print(biodata)"
   ]
  },
  {
   "cell_type": "code",
   "execution_count": 142,
   "id": "b41bcd60",
   "metadata": {},
   "outputs": [],
   "source": [
    "#contoh tipe data DICTIONARY\n",
    "biodata =  {\"Nama\" : 'andi', 'berat' : 45, 'tinggi' : 170 }"
   ]
  },
  {
   "cell_type": "code",
   "execution_count": 143,
   "id": "6f367e20",
   "metadata": {},
   "outputs": [
    {
     "name": "stdout",
     "output_type": "stream",
     "text": [
      "{'Nama': 'andi', 'berat': 45, 'tinggi': 170}\n"
     ]
    }
   ],
   "source": [
    "print(biodata)"
   ]
  },
  {
   "cell_type": "code",
   "execution_count": 144,
   "id": "5506f0cd",
   "metadata": {},
   "outputs": [
    {
     "data": {
      "text/plain": [
       "dict_keys(['Nama', 'berat', 'tinggi'])"
      ]
     },
     "execution_count": 144,
     "metadata": {},
     "output_type": "execute_result"
    }
   ],
   "source": [
    "biodata.keys()"
   ]
  },
  {
   "cell_type": "code",
   "execution_count": 145,
   "id": "f2ef9c08",
   "metadata": {},
   "outputs": [
    {
     "data": {
      "text/plain": [
       "dict_values(['andi', 45, 170])"
      ]
     },
     "execution_count": 145,
     "metadata": {},
     "output_type": "execute_result"
    }
   ],
   "source": [
    "biodata.values()"
   ]
  },
  {
   "cell_type": "code",
   "execution_count": 147,
   "id": "200901dc",
   "metadata": {},
   "outputs": [
    {
     "data": {
      "text/plain": [
       "'andi'"
      ]
     },
     "execution_count": 147,
     "metadata": {},
     "output_type": "execute_result"
    }
   ],
   "source": [
    "biodata['Nama']"
   ]
  },
  {
   "cell_type": "code",
   "execution_count": 148,
   "id": "ad4c9d93",
   "metadata": {},
   "outputs": [
    {
     "data": {
      "text/plain": [
       "170"
      ]
     },
     "execution_count": 148,
     "metadata": {},
     "output_type": "execute_result"
    }
   ],
   "source": [
    "biodata['tinggi']"
   ]
  },
  {
   "cell_type": "code",
   "execution_count": 149,
   "id": "883a4639",
   "metadata": {},
   "outputs": [],
   "source": [
    "#values DICTIONARY bisa di ubah\n",
    "biodata['tinggi'] = 1"
   ]
  },
  {
   "cell_type": "code",
   "execution_count": 150,
   "id": "a8012fdd",
   "metadata": {},
   "outputs": [
    {
     "name": "stdout",
     "output_type": "stream",
     "text": [
      "{'Nama': 'andi', 'berat': 45, 'tinggi': 1}\n"
     ]
    }
   ],
   "source": [
    "print(biodata)"
   ]
  },
  {
   "cell_type": "markdown",
   "id": "d4317639",
   "metadata": {},
   "source": [
    "# logika dan aritmatika dalam phyton\n",
    "\n",
    "ARITMATIKA"
   ]
  },
  {
   "cell_type": "code",
   "execution_count": 4,
   "id": "7d2f82c2",
   "metadata": {},
   "outputs": [
    {
     "name": "stdout",
     "output_type": "stream",
     "text": [
      "hello\n",
      "1988\n",
      "hello world\n",
      "andi andi andi andi andi andi andi andi andi andi \n"
     ]
    }
   ],
   "source": [
    "#kabataku\n",
    "print(\"hello\" * 1)\n",
    "print(1992 - 4)\n",
    "print(\"hello\" + \" world\")\n",
    "print(\"andi \" * 10)"
   ]
  },
  {
   "cell_type": "code",
   "execution_count": 5,
   "id": "04599b31",
   "metadata": {},
   "outputs": [],
   "source": [
    "y = 1 + 75 * 9 - 6"
   ]
  },
  {
   "cell_type": "code",
   "execution_count": 6,
   "id": "2a9602cc",
   "metadata": {},
   "outputs": [
    {
     "name": "stdout",
     "output_type": "stream",
     "text": [
      "670\n"
     ]
    }
   ],
   "source": [
    "print(y)"
   ]
  },
  {
   "cell_type": "code",
   "execution_count": 7,
   "id": "2dec86bb",
   "metadata": {},
   "outputs": [
    {
     "name": "stdout",
     "output_type": "stream",
     "text": [
      "8\n"
     ]
    }
   ],
   "source": [
    "#pangkat penulisan menggunakan ** dua, contoh \n",
    "y = 2**3\n",
    "print(y)"
   ]
  },
  {
   "cell_type": "code",
   "execution_count": 8,
   "id": "681e8b94",
   "metadata": {},
   "outputs": [
    {
     "name": "stdout",
     "output_type": "stream",
     "text": [
      "0 2\n"
     ]
    }
   ],
   "source": [
    "#modulo menggunakan % , contoh\n",
    "angka1 = 10 % 2\n",
    "angka2 = 5 % 3\n",
    "print(angka1, angka2)"
   ]
  },
  {
   "cell_type": "code",
   "execution_count": 25,
   "id": "b6ec56d1",
   "metadata": {},
   "outputs": [
    {
     "name": "stdout",
     "output_type": "stream",
     "text": [
      "5.0\n",
      "2.6666666666666665\n",
      "2\n"
     ]
    }
   ],
   "source": [
    "#pembagian menggunakan /, contoh\n",
    "bil1 = 10 / 2\n",
    "bil2 = 8 / 3\n",
    "print(bil1)\n",
    "print(bil2)\n",
    "\n",
    "#untuk mengurangi angka di belakang koma menggunakan // dua atau floor, contohnya\n",
    "bil3 = 8 // 3\n",
    "print(bil3)"
   ]
  },
  {
   "cell_type": "markdown",
   "id": "e86eaa85",
   "metadata": {},
   "source": [
    "# LOGIKA"
   ]
  },
  {
   "cell_type": "code",
   "execution_count": 34,
   "id": "170aeb04",
   "metadata": {},
   "outputs": [
    {
     "name": "stdout",
     "output_type": "stream",
     "text": [
      "kamu lulus\n"
     ]
    }
   ],
   "source": [
    "#if\n",
    "nilai = 80 \n",
    "if nilai >= 70:\n",
    "    print(\"kamu lulus\") "
   ]
  },
  {
   "cell_type": "code",
   "execution_count": 37,
   "id": "f66c18df",
   "metadata": {},
   "outputs": [
    {
     "name": "stdout",
     "output_type": "stream",
     "text": [
      "tidak lulus\n"
     ]
    }
   ],
   "source": [
    "#if - else\n",
    "nilai = 60\n",
    "if nilai >= 78: \n",
    "    print(\"kamu lulus\")\n",
    "else: \n",
    "    print(\"tidak lulus\")"
   ]
  },
  {
   "cell_type": "code",
   "execution_count": 187,
   "id": "3035608b",
   "metadata": {},
   "outputs": [
    {
     "name": "stdout",
     "output_type": "stream",
     "text": [
      "lumayan\n"
     ]
    }
   ],
   "source": [
    "#contoh ke 2 \n",
    "atap = 1\n",
    "genteng = 1\n",
    "lantai = 1\n",
    "if (atap == 0 | genteng >= 1):\n",
    "    print(\"lumayan\")\n",
    "elif(genteng == 0  | lantai >= 1 ):\n",
    "    print(\"lumayan\")\n",
    "elif(lantai == 0 | atap >= 1):\n",
    "    print(\"lumayan\")\n",
    "elif(atap == 0 | genteng == 0):\n",
    "    print(\"tidak baik\")\n",
    "elif(genteng == 0| lantai == 0):\n",
    "    print(\"tidak baik\")\n",
    "elif(lantai == 0 | atap == 0):\n",
    "    print(\"tidak baik\")\n",
    "else:    \n",
    "    print(\"baik\")"
   ]
  },
  {
   "cell_type": "code",
   "execution_count": 189,
   "id": "02985021",
   "metadata": {},
   "outputs": [
    {
     "name": "stdout",
     "output_type": "stream",
     "text": [
      "Masukkan nama buah dalam huruf kecil: sirsak\n",
      "Buah yang anda cari tidak tersedia!\n"
     ]
    }
   ],
   "source": [
    "buah = ['jeruk', 'mangga', 'melon']\n",
    "buah_yang_dicari = input('Masukkan nama buah dalam huruf kecil: ')\n",
    "\n",
    "if (buah_yang_dicari in buah):\n",
    "  print('Buah yang anda cari tersedia!')\n",
    "else:\n",
    "  print('Buah yang anda cari tidak tersedia!')"
   ]
  },
  {
   "cell_type": "code",
   "execution_count": 274,
   "id": "e57fb5af",
   "metadata": {},
   "outputs": [
    {
     "name": "stdout",
     "output_type": "stream",
     "text": [
      "1\n",
      "2\n",
      "3\n",
      "4\n",
      "5\n"
     ]
    }
   ],
   "source": [
    "#for - loop\n",
    "list_me = (1, 2, 3, 4,5)\n",
    "for i in list_me:\n",
    "    print(i)"
   ]
  },
  {
   "cell_type": "code",
   "execution_count": 220,
   "id": "ad194fd9",
   "metadata": {},
   "outputs": [
    {
     "name": "stdout",
     "output_type": "stream",
     "text": [
      "0\n",
      "1\n",
      "2\n",
      "3\n",
      "4\n",
      "5\n",
      "6\n",
      "7\n",
      "8\n",
      "9\n",
      "32\n"
     ]
    }
   ],
   "source": [
    "a = 2\n",
    "b = 3\n",
    "un = a\n",
    "for i in range(0,10):\n",
    "    print(i)\n",
    "    un = un + b \n",
    "print(un)"
   ]
  },
  {
   "cell_type": "code",
   "execution_count": 212,
   "id": "2cfb9d8f",
   "metadata": {},
   "outputs": [
    {
     "name": "stdout",
     "output_type": "stream",
     "text": [
      "1\n",
      "2\n",
      "3\n",
      "4\n",
      "5\n",
      "6\n",
      "7\n",
      "8\n",
      "9\n"
     ]
    }
   ],
   "source": [
    "#while loop \n",
    "con=0\n",
    "while con < 9:\n",
    "    con += 1\n",
    "    print(con)"
   ]
  },
  {
   "cell_type": "code",
   "execution_count": 225,
   "id": "dc5be25b",
   "metadata": {},
   "outputs": [
    {
     "name": "stdout",
     "output_type": "stream",
     "text": [
      "32\n"
     ]
    }
   ],
   "source": [
    "a =2\n",
    "b =3\n",
    "un = a\n",
    "while (un <= 30 ):\n",
    "    un = un + b \n",
    "print(un)"
   ]
  },
  {
   "cell_type": "markdown",
   "id": "423d48f6",
   "metadata": {},
   "source": [
    "# FUNCTION"
   ]
  },
  {
   "cell_type": "code",
   "execution_count": 227,
   "id": "0954b148",
   "metadata": {},
   "outputs": [
    {
     "name": "stdout",
     "output_type": "stream",
     "text": [
      "4 9\n"
     ]
    }
   ],
   "source": [
    "#tanpa menggunakan functions\n",
    "\n",
    "a = 2\n",
    "b = 3\n",
    "\n",
    "a_pangkat = a**2\n",
    "b_pangkat = b**2\n",
    "\n",
    "print(a_pangkat,b_pangkat)"
   ]
  },
  {
   "cell_type": "code",
   "execution_count": 4,
   "id": "ce433947",
   "metadata": {},
   "outputs": [
    {
     "name": "stdout",
     "output_type": "stream",
     "text": [
      "18 19\n"
     ]
    }
   ],
   "source": [
    "#menggunakan functions\n",
    "\n",
    "def pangkat_angka(angka,pangkat,tambah):\n",
    "    return angka ** pangkat + tambah\n",
    "\n",
    "def kuadrat(angka):\n",
    "    return angka ** 2\n",
    "\n",
    "\n",
    "a = 2\n",
    "b = 3\n",
    "\n",
    "a_pangkat = pangkat_angka(a,3,10)\n",
    "b_pangkat = pangkat_angka(b,2,10)\n",
    "\n",
    "print(a_pangkat,b_pangkat)\n"
   ]
  },
  {
   "cell_type": "code",
   "execution_count": 254,
   "id": "c6220fd8",
   "metadata": {},
   "outputs": [
    {
     "name": "stdout",
     "output_type": "stream",
     "text": [
      "9 1\n",
      "[1, 3, 2, 4, 6, 5, 7, 8, 9]\n"
     ]
    },
    {
     "data": {
      "text/plain": [
       "[1, 2, 3, 4, 5, 6, 7, 8, 9]"
      ]
     },
     "execution_count": 254,
     "metadata": {},
     "output_type": "execute_result"
    }
   ],
   "source": [
    "#build in function\n",
    "\n",
    "list_aku= [1,3,2,4,6,5,7,8,9]\n",
    "maximum = max(list_aku)\n",
    "minimum = min(list_aku)\n",
    "\n",
    "print(maximum,minimum)\n",
    "print(list_aku)\n",
    "sorted(list_aku)"
   ]
  },
  {
   "cell_type": "code",
   "execution_count": 10,
   "id": "48a6ee52",
   "metadata": {},
   "outputs": [
    {
     "name": "stdout",
     "output_type": "stream",
     "text": [
      "[9604, 3249, 5625]\n"
     ]
    }
   ],
   "source": [
    "#define map function\n",
    "\n",
    "nilai =[98, 57, 75]\n",
    "nilai1 = [2, 3]\n",
    "\n",
    "#applay \"kuadrat\" function to \"nilai\" list\n",
    "\n",
    "print(list(map(kuadrat, nilai)))"
   ]
  },
  {
   "cell_type": "code",
   "execution_count": 12,
   "id": "b4432129",
   "metadata": {},
   "outputs": [
    {
     "name": "stdout",
     "output_type": "stream",
     "text": [
      "[['a', 'n', 'd', 'i'], ['c', 'a', 'r', 'o', 'l'], ['j', 'u', 'n', 'i', 'o', 'r']]\n"
     ]
    }
   ],
   "source": [
    "#define map function\n",
    "biodata = ['andi', 'carol', 'junior']\n",
    "\n",
    "print(list(map(list,biodata)))"
   ]
  },
  {
   "cell_type": "code",
   "execution_count": 2,
   "id": "a94cdb83",
   "metadata": {},
   "outputs": [
    {
     "name": "stdout",
     "output_type": "stream",
     "text": [
      "[1, 4, 9]\n"
     ]
    }
   ],
   "source": [
    "#define map function LAMBDA\n",
    "\n",
    "nilai3 = [1,2,3]\n",
    "\n",
    "#penulisan LAMBDA \n",
    "print(list(map(lambda a: a**2 , nilai3)))"
   ]
  },
  {
   "cell_type": "markdown",
   "id": "6bed255d",
   "metadata": {},
   "source": [
    "# PACKAGE PHYTON\n",
    "# pandas "
   ]
  },
  {
   "cell_type": "code",
   "execution_count": 1,
   "id": "5de68a51",
   "metadata": {},
   "outputs": [],
   "source": [
    "#import pandas library\n",
    "\n",
    "import pandas as pd"
   ]
  },
  {
   "cell_type": "code",
   "execution_count": 2,
   "id": "87d99af4",
   "metadata": {},
   "outputs": [],
   "source": [
    "#membuat dataframe\n",
    "\n",
    "df = pd.DataFrame(columns=['nama', 'umur'])"
   ]
  },
  {
   "cell_type": "code",
   "execution_count": 20,
   "id": "67f9f28a",
   "metadata": {},
   "outputs": [
    {
     "data": {
      "text/html": [
       "<div>\n",
       "<style scoped>\n",
       "    .dataframe tbody tr th:only-of-type {\n",
       "        vertical-align: middle;\n",
       "    }\n",
       "\n",
       "    .dataframe tbody tr th {\n",
       "        vertical-align: top;\n",
       "    }\n",
       "\n",
       "    .dataframe thead th {\n",
       "        text-align: right;\n",
       "    }\n",
       "</style>\n",
       "<table border=\"1\" class=\"dataframe\">\n",
       "  <thead>\n",
       "    <tr style=\"text-align: right;\">\n",
       "      <th></th>\n",
       "      <th>nama</th>\n",
       "      <th>umur</th>\n",
       "    </tr>\n",
       "  </thead>\n",
       "  <tbody>\n",
       "  </tbody>\n",
       "</table>\n",
       "</div>"
      ],
      "text/plain": [
       "Empty DataFrame\n",
       "Columns: [nama, umur]\n",
       "Index: []"
      ]
     },
     "execution_count": 20,
     "metadata": {},
     "output_type": "execute_result"
    }
   ],
   "source": [
    "df"
   ]
  },
  {
   "cell_type": "code",
   "execution_count": 21,
   "id": "d2dfc979",
   "metadata": {},
   "outputs": [
    {
     "data": {
      "text/html": [
       "<div>\n",
       "<style scoped>\n",
       "    .dataframe tbody tr th:only-of-type {\n",
       "        vertical-align: middle;\n",
       "    }\n",
       "\n",
       "    .dataframe tbody tr th {\n",
       "        vertical-align: top;\n",
       "    }\n",
       "\n",
       "    .dataframe thead th {\n",
       "        text-align: right;\n",
       "    }\n",
       "</style>\n",
       "<table border=\"1\" class=\"dataframe\">\n",
       "  <thead>\n",
       "    <tr style=\"text-align: right;\">\n",
       "      <th></th>\n",
       "      <th>nama</th>\n",
       "      <th>umur</th>\n",
       "      <th>sex</th>\n",
       "    </tr>\n",
       "  </thead>\n",
       "  <tbody>\n",
       "    <tr>\n",
       "      <th>0</th>\n",
       "      <td>andi</td>\n",
       "      <td>30</td>\n",
       "      <td>laki - laki</td>\n",
       "    </tr>\n",
       "    <tr>\n",
       "      <th>1</th>\n",
       "      <td>carol</td>\n",
       "      <td>29</td>\n",
       "      <td>perempuan</td>\n",
       "    </tr>\n",
       "  </tbody>\n",
       "</table>\n",
       "</div>"
      ],
      "text/plain": [
       "    nama umur          sex\n",
       "0   andi   30  laki - laki\n",
       "1  carol   29    perempuan"
      ]
     },
     "execution_count": 21,
     "metadata": {},
     "output_type": "execute_result"
    }
   ],
   "source": [
    "#mengisi coloumns \n",
    "\n",
    "df = df.append({'nama': 'andi', 'umur' : '30' }, ignore_index=1)\n",
    "df = df.append({'nama': 'carol', 'umur' : '29' }, ignore_index=2)\n",
    "\n",
    "#menambahkan colomns baru \n",
    "df['sex'] = ['laki - laki','perempuan']\n",
    "df"
   ]
  },
  {
   "cell_type": "code",
   "execution_count": 13,
   "id": "2ba98b44",
   "metadata": {},
   "outputs": [
    {
     "data": {
      "text/html": [
       "<div>\n",
       "<style scoped>\n",
       "    .dataframe tbody tr th:only-of-type {\n",
       "        vertical-align: middle;\n",
       "    }\n",
       "\n",
       "    .dataframe tbody tr th {\n",
       "        vertical-align: top;\n",
       "    }\n",
       "\n",
       "    .dataframe thead th {\n",
       "        text-align: right;\n",
       "    }\n",
       "</style>\n",
       "<table border=\"1\" class=\"dataframe\">\n",
       "  <thead>\n",
       "    <tr style=\"text-align: right;\">\n",
       "      <th></th>\n",
       "      <th>nama</th>\n",
       "      <th>umur</th>\n",
       "    </tr>\n",
       "  </thead>\n",
       "  <tbody>\n",
       "    <tr>\n",
       "      <th>0</th>\n",
       "      <td>andi</td>\n",
       "      <td>30</td>\n",
       "    </tr>\n",
       "    <tr>\n",
       "      <th>1</th>\n",
       "      <td>carol</td>\n",
       "      <td>29</td>\n",
       "    </tr>\n",
       "    <tr>\n",
       "      <th>2</th>\n",
       "      <td>andi</td>\n",
       "      <td>30</td>\n",
       "    </tr>\n",
       "    <tr>\n",
       "      <th>3</th>\n",
       "      <td>carol</td>\n",
       "      <td>29</td>\n",
       "    </tr>\n",
       "  </tbody>\n",
       "</table>\n",
       "</div>"
      ],
      "text/plain": [
       "    nama umur\n",
       "0   andi   30\n",
       "1  carol   29\n",
       "2   andi   30\n",
       "3  carol   29"
      ]
     },
     "execution_count": 13,
     "metadata": {},
     "output_type": "execute_result"
    }
   ],
   "source": []
  },
  {
   "cell_type": "code",
   "execution_count": 4,
   "id": "40b76a6c",
   "metadata": {},
   "outputs": [
    {
     "data": {
      "text/html": [
       "<div>\n",
       "<style scoped>\n",
       "    .dataframe tbody tr th:only-of-type {\n",
       "        vertical-align: middle;\n",
       "    }\n",
       "\n",
       "    .dataframe tbody tr th {\n",
       "        vertical-align: top;\n",
       "    }\n",
       "\n",
       "    .dataframe thead th {\n",
       "        text-align: right;\n",
       "    }\n",
       "</style>\n",
       "<table border=\"1\" class=\"dataframe\">\n",
       "  <thead>\n",
       "    <tr style=\"text-align: right;\">\n",
       "      <th></th>\n",
       "      <th>nama</th>\n",
       "      <th>umur</th>\n",
       "      <th>sex</th>\n",
       "    </tr>\n",
       "  </thead>\n",
       "  <tbody>\n",
       "    <tr>\n",
       "      <th>0</th>\n",
       "      <td>andi</td>\n",
       "      <td>30</td>\n",
       "      <td>laki-laki</td>\n",
       "    </tr>\n",
       "    <tr>\n",
       "      <th>1</th>\n",
       "      <td>carol</td>\n",
       "      <td>29</td>\n",
       "      <td>perempuan</td>\n",
       "    </tr>\n",
       "  </tbody>\n",
       "</table>\n",
       "</div>"
      ],
      "text/plain": [
       "    nama umur        sex\n",
       "0   andi   30  laki-laki\n",
       "1  carol   29  perempuan"
      ]
     },
     "execution_count": 4,
     "metadata": {},
     "output_type": "execute_result"
    }
   ],
   "source": [
    "#membuat dataframe dari dictionary\n",
    "data = {'nama':['andi','carol'], \n",
    "       'umur':['30','29'],\n",
    "       'sex':['laki-laki','perempuan']}\n",
    "df=pd.DataFrame(data)\n",
    "df"
   ]
  },
  {
   "cell_type": "code",
   "execution_count": 14,
   "id": "8ebb3b11",
   "metadata": {},
   "outputs": [],
   "source": [
    "#latihan pandas library\n",
    "import pandas as pd\n",
    "df = pd.DataFrame(columns=['nama','kelamin'])\n"
   ]
  },
  {
   "cell_type": "code",
   "execution_count": 15,
   "id": "dfef2281",
   "metadata": {},
   "outputs": [
    {
     "data": {
      "text/html": [
       "<div>\n",
       "<style scoped>\n",
       "    .dataframe tbody tr th:only-of-type {\n",
       "        vertical-align: middle;\n",
       "    }\n",
       "\n",
       "    .dataframe tbody tr th {\n",
       "        vertical-align: top;\n",
       "    }\n",
       "\n",
       "    .dataframe thead th {\n",
       "        text-align: right;\n",
       "    }\n",
       "</style>\n",
       "<table border=\"1\" class=\"dataframe\">\n",
       "  <thead>\n",
       "    <tr style=\"text-align: right;\">\n",
       "      <th></th>\n",
       "      <th>nama</th>\n",
       "      <th>kelamin</th>\n",
       "    </tr>\n",
       "  </thead>\n",
       "  <tbody>\n",
       "  </tbody>\n",
       "</table>\n",
       "</div>"
      ],
      "text/plain": [
       "Empty DataFrame\n",
       "Columns: [nama, kelamin]\n",
       "Index: []"
      ]
     },
     "execution_count": 15,
     "metadata": {},
     "output_type": "execute_result"
    }
   ],
   "source": [
    "df"
   ]
  },
  {
   "cell_type": "code",
   "execution_count": 19,
   "id": "0a59bbc0",
   "metadata": {},
   "outputs": [],
   "source": [
    "\n",
    "df = df.append({'nama': 'andi','kelamin': 'laki - laki'},ignore_index=1)\n",
    "\n",
    "df['pacar'] = ['sheila', 'mirda']"
   ]
  },
  {
   "cell_type": "code",
   "execution_count": 20,
   "id": "6e060106",
   "metadata": {},
   "outputs": [
    {
     "data": {
      "text/html": [
       "<div>\n",
       "<style scoped>\n",
       "    .dataframe tbody tr th:only-of-type {\n",
       "        vertical-align: middle;\n",
       "    }\n",
       "\n",
       "    .dataframe tbody tr th {\n",
       "        vertical-align: top;\n",
       "    }\n",
       "\n",
       "    .dataframe thead th {\n",
       "        text-align: right;\n",
       "    }\n",
       "</style>\n",
       "<table border=\"1\" class=\"dataframe\">\n",
       "  <thead>\n",
       "    <tr style=\"text-align: right;\">\n",
       "      <th></th>\n",
       "      <th>nama</th>\n",
       "      <th>kelamin</th>\n",
       "      <th>pacar</th>\n",
       "    </tr>\n",
       "  </thead>\n",
       "  <tbody>\n",
       "    <tr>\n",
       "      <th>0</th>\n",
       "      <td>andi</td>\n",
       "      <td>laki - laki</td>\n",
       "      <td>sheila</td>\n",
       "    </tr>\n",
       "    <tr>\n",
       "      <th>1</th>\n",
       "      <td>andi</td>\n",
       "      <td>laki - laki</td>\n",
       "      <td>mirda</td>\n",
       "    </tr>\n",
       "  </tbody>\n",
       "</table>\n",
       "</div>"
      ],
      "text/plain": [
       "   nama      kelamin   pacar\n",
       "0  andi  laki - laki  sheila\n",
       "1  andi  laki - laki   mirda"
      ]
     },
     "execution_count": 20,
     "metadata": {},
     "output_type": "execute_result"
    }
   ],
   "source": [
    "df"
   ]
  },
  {
   "cell_type": "code",
   "execution_count": null,
   "id": "94caf79b",
   "metadata": {},
   "outputs": [],
   "source": []
  }
 ],
 "metadata": {
  "kernelspec": {
   "display_name": "Python 3 (ipykernel)",
   "language": "python",
   "name": "python3"
  },
  "language_info": {
   "codemirror_mode": {
    "name": "ipython",
    "version": 3
   },
   "file_extension": ".py",
   "mimetype": "text/x-python",
   "name": "python",
   "nbconvert_exporter": "python",
   "pygments_lexer": "ipython3",
   "version": "3.9.7"
  }
 },
 "nbformat": 4,
 "nbformat_minor": 5
}
