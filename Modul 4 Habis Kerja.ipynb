{
 "cells": [
  {
   "cell_type": "markdown",
   "metadata": {},
   "source": [
    "# Selamat Datang di Notebook Modul 4 Habis Kerja !\n",
    "## Ini Adalah Markdown Notebook\n",
    "\n",
    "Berikut ini adalah tutorial Notebook mengenai dasar - dasar python untuk Data Scientist yang berisi: <br>\n",
    "\n",
    "`Basic Components`\n",
    "1. Variabel dan Tipe Data\n",
    "2. Aritmatika dan Logika\n",
    "3. Function <br>\n",
    "\n",
    "`Packages`\n",
    "1. Pandas dan Numpy\n",
    "2. Matplotlib\n",
    "3. Scikit-learn\n",
    "\n",
    "detail untuk tutorial markdown [ada disini](https://ingeh.medium.com/markdown-for-jupyter-notebooks-cheatsheet-386c05aeebed)"
   ]
  },
  {
   "cell_type": "markdown",
   "metadata": {},
   "source": [
    "# Basic Components"
   ]
  },
  {
   "cell_type": "markdown",
   "metadata": {},
   "source": [
    "## 1. Variable dan Tipe Data"
   ]
  },
  {
   "cell_type": "code",
   "execution_count": 56,
   "metadata": {
    "ExecuteTime": {
     "end_time": "2021-08-30T01:32:09.789959Z",
     "start_time": "2021-08-30T01:32:09.775996Z"
    }
   },
   "outputs": [],
   "source": [
    "# Assign data ke variable\n",
    "x = 1995\n",
    "y = \"Hello World!\"\n",
    "z = 3.5"
   ]
  },
  {
   "cell_type": "code",
   "execution_count": null,
   "metadata": {
    "ExecuteTime": {
     "end_time": "2021-08-30T01:32:16.236817Z",
     "start_time": "2021-08-30T01:32:16.227840Z"
    }
   },
   "outputs": [],
   "source": [
    "# print variable\n",
    "print(x)\n",
    "print(y, z)"
   ]
  },
  {
   "cell_type": "code",
   "execution_count": 2,
   "metadata": {
    "ExecuteTime": {
     "end_time": "2021-08-30T01:32:34.921882Z",
     "start_time": "2021-08-30T01:32:34.910677Z"
    }
   },
   "outputs": [
    {
     "ename": "SyntaxError",
     "evalue": "cannot assign to literal (Temp/ipykernel_10464/3101271250.py, line 2)",
     "output_type": "error",
     "traceback": [
      "\u001b[1;36m  File \u001b[1;32m\"C:\\Users\\ASUS\\AppData\\Local\\Temp/ipykernel_10464/3101271250.py\"\u001b[1;36m, line \u001b[1;32m2\u001b[0m\n\u001b[1;33m    1 = 1990\u001b[0m\n\u001b[1;37m    ^\u001b[0m\n\u001b[1;31mSyntaxError\u001b[0m\u001b[1;31m:\u001b[0m cannot assign to literal\n"
     ]
    }
   ],
   "source": [
    "# penamaan variable tidak bisa didahului angka\n",
    "1 = 1990"
   ]
  },
  {
   "cell_type": "code",
   "execution_count": 3,
   "metadata": {
    "ExecuteTime": {
     "end_time": "2021-08-30T01:32:45.254024Z",
     "start_time": "2021-08-30T01:32:45.237070Z"
    }
   },
   "outputs": [],
   "source": [
    "# penamaan variable tidak bisa dengan spasi\n",
    "x_y = 1"
   ]
  },
  {
   "cell_type": "code",
   "execution_count": 4,
   "metadata": {
    "ExecuteTime": {
     "end_time": "2021-08-30T01:32:55.426590Z",
     "start_time": "2021-08-30T01:32:55.413625Z"
    }
   },
   "outputs": [],
   "source": [
    "# penamaan dua variable atau lebih, bisa dalam satu baris\n",
    "x, y, m, n = 1900, \"Hello World!\", 'a', 1.5"
   ]
  },
  {
   "cell_type": "code",
   "execution_count": 5,
   "metadata": {
    "ExecuteTime": {
     "end_time": "2021-08-30T01:33:44.327417Z",
     "start_time": "2021-08-30T01:33:44.309862Z"
    }
   },
   "outputs": [],
   "source": [
    "# string\n",
    "nama = \"Hello World!\"\n",
    "angka = \"3.5\"\n",
    "nol = '0'\n",
    "\n",
    "jumat = \"jum'at\"\n",
    "rata_rata = 'rata\"'"
   ]
  },
  {
   "cell_type": "code",
   "execution_count": 6,
   "metadata": {
    "ExecuteTime": {
     "end_time": "2021-08-30T01:33:54.519285Z",
     "start_time": "2021-08-30T01:33:54.514297Z"
    }
   },
   "outputs": [
    {
     "name": "stdout",
     "output_type": "stream",
     "text": [
      "rata\"\n"
     ]
    }
   ],
   "source": [
    "print(rata_rata)"
   ]
  },
  {
   "cell_type": "code",
   "execution_count": null,
   "metadata": {
    "ExecuteTime": {
     "end_time": "2021-07-09T13:54:07.968075Z",
     "start_time": "2021-07-09T13:54:07.954664Z"
    }
   },
   "outputs": [],
   "source": [
    "# integer\n",
    "satu = 1"
   ]
  },
  {
   "cell_type": "code",
   "execution_count": null,
   "metadata": {
    "ExecuteTime": {
     "end_time": "2021-07-09T13:54:15.701824Z",
     "start_time": "2021-07-09T13:54:15.689857Z"
    }
   },
   "outputs": [],
   "source": [
    "# float\n",
    "satu_koma_lima = 1.5"
   ]
  },
  {
   "cell_type": "code",
   "execution_count": 60,
   "metadata": {
    "ExecuteTime": {
     "end_time": "2021-08-30T01:34:24.140314Z",
     "start_time": "2021-08-30T01:34:24.129339Z"
    }
   },
   "outputs": [],
   "source": [
    "satu = 1"
   ]
  },
  {
   "cell_type": "code",
   "execution_count": 61,
   "metadata": {
    "ExecuteTime": {
     "end_time": "2021-08-30T01:34:24.567450Z",
     "start_time": "2021-08-30T01:34:24.552490Z"
    }
   },
   "outputs": [
    {
     "name": "stdout",
     "output_type": "stream",
     "text": [
      "1\n"
     ]
    }
   ],
   "source": [
    "print(satu)"
   ]
  },
  {
   "cell_type": "code",
   "execution_count": 62,
   "metadata": {
    "ExecuteTime": {
     "end_time": "2021-08-30T01:34:35.499237Z",
     "start_time": "2021-08-30T01:34:35.488266Z"
    }
   },
   "outputs": [],
   "source": [
    "# Boolean\n",
    "Betul = False\n",
    "komparasi =( satu == 1) "
   ]
  },
  {
   "cell_type": "code",
   "execution_count": 63,
   "metadata": {
    "ExecuteTime": {
     "end_time": "2021-08-30T01:35:02.474338Z",
     "start_time": "2021-08-30T01:35:02.456387Z"
    }
   },
   "outputs": [
    {
     "data": {
      "text/plain": [
       "True"
      ]
     },
     "execution_count": 63,
     "metadata": {},
     "output_type": "execute_result"
    }
   ],
   "source": [
    "satu == 1"
   ]
  },
  {
   "cell_type": "code",
   "execution_count": 67,
   "metadata": {
    "ExecuteTime": {
     "end_time": "2021-08-30T01:35:35.887192Z",
     "start_time": "2021-08-30T01:35:35.880212Z"
    }
   },
   "outputs": [
    {
     "data": {
      "text/plain": [
       "35.4"
      ]
     },
     "execution_count": 67,
     "metadata": {},
     "output_type": "execute_result"
    }
   ],
   "source": [
    "# list\n",
    "biodata = [\"Ziyad\", 165, 35.4]\n",
    "biodata[2]"
   ]
  },
  {
   "cell_type": "code",
   "execution_count": 68,
   "metadata": {
    "ExecuteTime": {
     "end_time": "2021-08-30T01:35:46.593693Z",
     "start_time": "2021-08-30T01:35:46.589702Z"
    }
   },
   "outputs": [],
   "source": [
    "biodata[2] = 37"
   ]
  },
  {
   "cell_type": "code",
   "execution_count": 69,
   "metadata": {
    "ExecuteTime": {
     "end_time": "2021-08-30T01:35:47.208021Z",
     "start_time": "2021-08-30T01:35:47.193035Z"
    }
   },
   "outputs": [
    {
     "name": "stdout",
     "output_type": "stream",
     "text": [
      "['Ziyad', 165, 37]\n"
     ]
    }
   ],
   "source": [
    "print(biodata)"
   ]
  },
  {
   "cell_type": "code",
   "execution_count": 70,
   "metadata": {
    "ExecuteTime": {
     "end_time": "2021-08-30T01:35:52.149974Z",
     "start_time": "2021-08-30T01:35:52.140002Z"
    }
   },
   "outputs": [],
   "source": [
    "# Tuple\n",
    "biodata = (\"Ziyad\", 165, 35.4)"
   ]
  },
  {
   "cell_type": "code",
   "execution_count": 71,
   "metadata": {
    "ExecuteTime": {
     "end_time": "2021-08-30T01:35:54.403950Z",
     "start_time": "2021-08-30T01:35:54.338966Z"
    }
   },
   "outputs": [
    {
     "ename": "TypeError",
     "evalue": "'tuple' object does not support item assignment",
     "output_type": "error",
     "traceback": [
      "\u001b[1;31m---------------------------------------------------------------------------\u001b[0m",
      "\u001b[1;31mTypeError\u001b[0m                                 Traceback (most recent call last)",
      "\u001b[1;32m~\\AppData\\Local\\Temp/ipykernel_10464/3944409535.py\u001b[0m in \u001b[0;36m<module>\u001b[1;34m\u001b[0m\n\u001b[1;32m----> 1\u001b[1;33m \u001b[0mbiodata\u001b[0m\u001b[1;33m[\u001b[0m\u001b[1;36m2\u001b[0m\u001b[1;33m]\u001b[0m \u001b[1;33m=\u001b[0m \u001b[1;36m37\u001b[0m\u001b[1;33m\u001b[0m\u001b[1;33m\u001b[0m\u001b[0m\n\u001b[0m",
      "\u001b[1;31mTypeError\u001b[0m: 'tuple' object does not support item assignment"
     ]
    }
   ],
   "source": [
    "biodata[2] = 37"
   ]
  },
  {
   "cell_type": "code",
   "execution_count": 20,
   "metadata": {
    "ExecuteTime": {
     "end_time": "2021-08-30T01:36:13.105964Z",
     "start_time": "2021-08-30T01:36:13.098984Z"
    }
   },
   "outputs": [],
   "source": [
    "# Set\n",
    "biodata = {\"Ziyad\", 165, 35.4, \"Ziyad\"}"
   ]
  },
  {
   "cell_type": "code",
   "execution_count": 23,
   "metadata": {
    "ExecuteTime": {
     "end_time": "2021-08-30T01:36:13.532339Z",
     "start_time": "2021-08-30T01:36:13.511392Z"
    }
   },
   "outputs": [
    {
     "data": {
      "text/plain": [
       "{165, 35.4, 'Ziyad'}"
      ]
     },
     "execution_count": 23,
     "metadata": {},
     "output_type": "execute_result"
    }
   ],
   "source": [
    "biodata"
   ]
  },
  {
   "cell_type": "code",
   "execution_count": 72,
   "metadata": {
    "ExecuteTime": {
     "end_time": "2021-08-30T01:36:21.046725Z",
     "start_time": "2021-08-30T01:36:21.035755Z"
    }
   },
   "outputs": [],
   "source": [
    "# Dictionary\n",
    "biodata = {\"Nama\":\"Ziyad\", \"Tinggi\":165, \"Suhu\":35.4}"
   ]
  },
  {
   "cell_type": "code",
   "execution_count": 73,
   "metadata": {
    "ExecuteTime": {
     "end_time": "2021-08-30T01:36:23.314114Z",
     "start_time": "2021-08-30T01:36:23.309155Z"
    }
   },
   "outputs": [
    {
     "data": {
      "text/plain": [
       "dict_keys(['Nama', 'Tinggi', 'Suhu'])"
      ]
     },
     "execution_count": 73,
     "metadata": {},
     "output_type": "execute_result"
    }
   ],
   "source": [
    "biodata.keys()"
   ]
  },
  {
   "cell_type": "code",
   "execution_count": 74,
   "metadata": {
    "ExecuteTime": {
     "end_time": "2021-08-30T01:36:28.623946Z",
     "start_time": "2021-08-30T01:36:28.613460Z"
    }
   },
   "outputs": [
    {
     "data": {
      "text/plain": [
       "dict_values(['Ziyad', 165, 35.4])"
      ]
     },
     "execution_count": 74,
     "metadata": {},
     "output_type": "execute_result"
    }
   ],
   "source": [
    "biodata.values()"
   ]
  },
  {
   "cell_type": "code",
   "execution_count": 75,
   "metadata": {
    "ExecuteTime": {
     "end_time": "2021-07-09T14:00:45.762306Z",
     "start_time": "2021-07-09T14:00:45.748343Z"
    }
   },
   "outputs": [
    {
     "data": {
      "text/plain": [
       "'Ziyad'"
      ]
     },
     "execution_count": 75,
     "metadata": {},
     "output_type": "execute_result"
    }
   ],
   "source": [
    "biodata['Nama']"
   ]
  },
  {
   "cell_type": "code",
   "execution_count": 34,
   "metadata": {
    "ExecuteTime": {
     "end_time": "2021-08-30T01:37:03.660786Z",
     "start_time": "2021-08-30T01:37:03.648818Z"
    }
   },
   "outputs": [],
   "source": [
    "biodata['Nama'] = 'Zizi'"
   ]
  },
  {
   "cell_type": "code",
   "execution_count": 35,
   "metadata": {
    "ExecuteTime": {
     "end_time": "2021-08-30T01:37:06.505446Z",
     "start_time": "2021-08-30T01:37:06.500459Z"
    }
   },
   "outputs": [
    {
     "data": {
      "text/plain": [
       "{'Nama': 'Zizi', 'Tinggi': 165, 'Suhu': 35.4}"
      ]
     },
     "execution_count": 35,
     "metadata": {},
     "output_type": "execute_result"
    }
   ],
   "source": [
    "biodata"
   ]
  },
  {
   "cell_type": "markdown",
   "metadata": {},
   "source": [
    "## 2 Aritmatika dan Logika"
   ]
  },
  {
   "cell_type": "code",
   "execution_count": 1,
   "metadata": {
    "ExecuteTime": {
     "end_time": "2021-08-30T07:57:41.299319Z",
     "start_time": "2021-08-30T07:57:41.280335Z"
    }
   },
   "outputs": [
    {
     "name": "stdout",
     "output_type": "stream",
     "text": [
      "1991.5\n",
      "Hello World\n",
      "HelloHelloHelloHelloHelloHelloHelloHelloHelloHelloHelloHelloHelloHelloHelloHelloHelloHelloHelloHello\n"
     ]
    }
   ],
   "source": [
    "# KaBaTaKu\n",
    "print(1990 + 1.5)\n",
    "print(\"Hello\" + \" World\")\n",
    "print(\"Hello\" * 20)"
   ]
  },
  {
   "cell_type": "code",
   "execution_count": 37,
   "metadata": {
    "ExecuteTime": {
     "end_time": "2021-08-30T07:57:52.615139Z",
     "start_time": "2021-08-30T07:57:52.609181Z"
    }
   },
   "outputs": [
    {
     "name": "stdout",
     "output_type": "stream",
     "text": [
      "-865\n"
     ]
    }
   ],
   "source": [
    "y = 160 - 75 * 15 + 100\n",
    "print(y)"
   ]
  },
  {
   "cell_type": "code",
   "execution_count": 38,
   "metadata": {
    "ExecuteTime": {
     "end_time": "2021-07-09T14:19:31.578014Z",
     "start_time": "2021-07-09T14:19:31.561058Z"
    }
   },
   "outputs": [
    {
     "name": "stdout",
     "output_type": "stream",
     "text": [
      "8\n"
     ]
    }
   ],
   "source": [
    "# pangkat\n",
    "p = 2**3\n",
    "print(p) #hasilnya akan keluar 8"
   ]
  },
  {
   "cell_type": "code",
   "execution_count": null,
   "metadata": {},
   "outputs": [],
   "source": []
  },
  {
   "cell_type": "code",
   "execution_count": 39,
   "metadata": {
    "ExecuteTime": {
     "end_time": "2021-07-09T14:19:53.507955Z",
     "start_time": "2021-07-09T14:19:53.501974Z"
    }
   },
   "outputs": [
    {
     "name": "stdout",
     "output_type": "stream",
     "text": [
      "1\n",
      "0\n"
     ]
    }
   ],
   "source": [
    "# modulo\n",
    "print(10 % 3) #hasilnya akan keluar 1\n",
    "print(2 % 2) #hasilnya akan keluar 0"
   ]
  },
  {
   "cell_type": "code",
   "execution_count": 40,
   "metadata": {
    "ExecuteTime": {
     "end_time": "2021-07-09T14:20:47.596128Z",
     "start_time": "2021-07-09T14:20:47.588147Z"
    }
   },
   "outputs": [
    {
     "name": "stdout",
     "output_type": "stream",
     "text": [
      "3.3333333333333335\n",
      "3\n"
     ]
    }
   ],
   "source": [
    "print(10 / 3) #hasilnya akan keluar 3.333\n",
    "# floor\n",
    "print(10 // 3) #hasilnya akan keluar 3"
   ]
  },
  {
   "cell_type": "code",
   "execution_count": 42,
   "metadata": {
    "ExecuteTime": {
     "end_time": "2021-08-30T07:58:40.589948Z",
     "start_time": "2021-08-30T07:58:40.585930Z"
    }
   },
   "outputs": [],
   "source": [
    "# IF\n",
    "nilai = 70\n",
    "if nilai >= 75:\n",
    "    print(\"Kamu Lulus!\")"
   ]
  },
  {
   "cell_type": "code",
   "execution_count": 43,
   "metadata": {
    "ExecuteTime": {
     "end_time": "2021-08-30T07:58:56.520204Z",
     "start_time": "2021-08-30T07:58:56.515208Z"
    }
   },
   "outputs": [
    {
     "name": "stdout",
     "output_type": "stream",
     "text": [
      "Kamu Lulus!\n"
     ]
    }
   ],
   "source": [
    "# IF - ELSE\n",
    "nilai = 75\n",
    "if nilai >= 75:\n",
    "    print(\"Kamu Lulus!\")\n",
    "else:\n",
    "    print(\"Kamu Tidak Lulus!\")"
   ]
  },
  {
   "cell_type": "code",
   "execution_count": 44,
   "metadata": {
    "ExecuteTime": {
     "end_time": "2021-08-30T07:59:24.776664Z",
     "start_time": "2021-08-30T07:59:24.765694Z"
    }
   },
   "outputs": [
    {
     "name": "stdout",
     "output_type": "stream",
     "text": [
      "1\n",
      "400\n",
      "90000\n",
      "16000000\n"
     ]
    }
   ],
   "source": [
    "# for Loop\n",
    "my_list = [1, 20, 300, 4000]\n",
    "for i in my_list:\n",
    "    print(i**2)"
   ]
  },
  {
   "cell_type": "code",
   "execution_count": 45,
   "metadata": {
    "ExecuteTime": {
     "end_time": "2021-08-30T08:00:03.521057Z",
     "start_time": "2021-08-30T08:00:03.512054Z"
    }
   },
   "outputs": [
    {
     "name": "stdout",
     "output_type": "stream",
     "text": [
      "0\n",
      "1\n",
      "2\n",
      "3\n",
      "4\n",
      "5\n",
      "6\n",
      "7\n",
      "8\n",
      "9\n",
      "32\n"
     ]
    }
   ],
   "source": [
    "a = 2\n",
    "b = 3\n",
    "un = a\n",
    "for i in range(0, 10):\n",
    "    print(i)\n",
    "    un = un + b\n",
    "    \n",
    "print(un)"
   ]
  },
  {
   "cell_type": "code",
   "execution_count": 2,
   "metadata": {
    "ExecuteTime": {
     "end_time": "2021-08-30T08:00:36.251054Z",
     "start_time": "2021-08-30T08:00:36.236094Z"
    }
   },
   "outputs": [
    {
     "name": "stdout",
     "output_type": "stream",
     "text": [
      "1\n",
      "2\n",
      "3\n",
      "4\n",
      "5\n",
      "6\n",
      "7\n",
      "8\n"
     ]
    }
   ],
   "source": [
    "# while loop\n",
    "cnt = 0\n",
    "while cnt<8:\n",
    "    cnt += 1\n",
    "    print(cnt)"
   ]
  },
  {
   "cell_type": "code",
   "execution_count": 50,
   "metadata": {
    "ExecuteTime": {
     "end_time": "2021-08-30T08:00:55.741964Z",
     "start_time": "2021-08-30T08:00:55.724988Z"
    }
   },
   "outputs": [
    {
     "name": "stdout",
     "output_type": "stream",
     "text": [
      "32\n"
     ]
    }
   ],
   "source": [
    "a = 2\n",
    "b = 3\n",
    "un = a\n",
    "while (un <= 30):\n",
    "    un = un + b\n",
    "print(un)"
   ]
  },
  {
   "cell_type": "markdown",
   "metadata": {},
   "source": [
    "## 3 Function"
   ]
  },
  {
   "cell_type": "code",
   "execution_count": 51,
   "metadata": {
    "ExecuteTime": {
     "end_time": "2021-08-30T08:12:50.456917Z",
     "start_time": "2021-08-30T08:12:50.448938Z"
    }
   },
   "outputs": [
    {
     "name": "stdout",
     "output_type": "stream",
     "text": [
      "4 9\n"
     ]
    }
   ],
   "source": [
    "# Tanpa menggunakan function\n",
    "\n",
    "a = 2 \n",
    "b = 3\n",
    "a_kuadrat = a ** 2\n",
    "b_kuadrat = b ** 2\n",
    "\n",
    "print(a_kuadrat, b_kuadrat)\n"
   ]
  },
  {
   "cell_type": "code",
   "execution_count": 5,
   "metadata": {
    "ExecuteTime": {
     "end_time": "2021-08-30T08:15:40.381467Z",
     "start_time": "2021-08-30T08:15:40.361520Z"
    }
   },
   "outputs": [
    {
     "name": "stdout",
     "output_type": "stream",
     "text": [
      "18 19\n"
     ]
    }
   ],
   "source": [
    "# Menggunakan function\n",
    "\n",
    "def pangkat_angka(angka, pangkat, tambah):\n",
    "    return angka ** pangkat + tambah\n",
    "\n",
    "def kuadrat(angka):\n",
    "    return angka ** 2\n",
    "\n",
    "a = 2\n",
    "b = 3\n",
    "a_pangkat = pangkat_angka(a, 3, 10)\n",
    "b_pangkat = pangkat_angka(b, 2, 10)\n",
    "\n",
    "print(a_pangkat, b_pangkat)"
   ]
  },
  {
   "cell_type": "code",
   "execution_count": 53,
   "metadata": {
    "ExecuteTime": {
     "end_time": "2021-08-30T08:14:46.941873Z",
     "start_time": "2021-08-30T08:14:46.923921Z"
    }
   },
   "outputs": [
    {
     "name": "stdout",
     "output_type": "stream",
     "text": [
      "1 17\n",
      "[1, 5, 4, 17, 11]\n"
     ]
    },
    {
     "data": {
      "text/plain": [
       "[1, 4, 5, 11, 17]"
      ]
     },
     "execution_count": 53,
     "metadata": {},
     "output_type": "execute_result"
    }
   ],
   "source": [
    "# Build in function\n",
    "\n",
    "list_saya = [1, 5, 4, 17, 11]\n",
    "minimum = min(list_saya)\n",
    "maximum = max(list_saya)\n",
    "\n",
    "print(minimum, maximum)\n",
    "\n",
    "print(list_saya)\n",
    "sorted(list_saya)"
   ]
  },
  {
   "cell_type": "code",
   "execution_count": 7,
   "metadata": {
    "ExecuteTime": {
     "end_time": "2021-08-30T09:01:12.665449Z",
     "start_time": "2021-08-30T09:01:12.658470Z"
    }
   },
   "outputs": [
    {
     "ename": "TypeError",
     "evalue": "kuadrat() takes 1 positional argument but 3 were given",
     "output_type": "error",
     "traceback": [
      "\u001b[1;31m---------------------------------------------------------------------------\u001b[0m",
      "\u001b[1;31mTypeError\u001b[0m                                 Traceback (most recent call last)",
      "\u001b[1;32m~\\AppData\\Local\\Temp/ipykernel_11900/298834446.py\u001b[0m in \u001b[0;36m<module>\u001b[1;34m\u001b[0m\n\u001b[0;32m      7\u001b[0m \u001b[1;31m# Apply “kuadrat” function to “nilai” list\u001b[0m\u001b[1;33m\u001b[0m\u001b[1;33m\u001b[0m\u001b[0m\n\u001b[0;32m      8\u001b[0m \u001b[1;31m# print(list(map(kuadrat, nilai)))\u001b[0m\u001b[1;33m\u001b[0m\u001b[1;33m\u001b[0m\u001b[0m\n\u001b[1;32m----> 9\u001b[1;33m \u001b[0mprint\u001b[0m\u001b[1;33m(\u001b[0m\u001b[0mlist\u001b[0m\u001b[1;33m(\u001b[0m\u001b[0mmap\u001b[0m\u001b[1;33m(\u001b[0m\u001b[0mkuadrat\u001b[0m\u001b[1;33m,\u001b[0m \u001b[0mnilai1\u001b[0m\u001b[1;33m,\u001b[0m \u001b[0mnilai2\u001b[0m\u001b[1;33m,\u001b[0m \u001b[0mnilai3\u001b[0m\u001b[1;33m)\u001b[0m\u001b[1;33m)\u001b[0m\u001b[1;33m)\u001b[0m\u001b[1;33m\u001b[0m\u001b[1;33m\u001b[0m\u001b[0m\n\u001b[0m",
      "\u001b[1;31mTypeError\u001b[0m: kuadrat() takes 1 positional argument but 3 were given"
     ]
    }
   ],
   "source": [
    "# Define list\n",
    "nilai = [98, 57, 75]\n",
    "nilai1 = [2, 3]\n",
    "nilai2 = [3, 2]\n",
    "nilai3 = [10, 10]\n",
    "\n",
    "# Apply “kuadrat” function to “nilai” list\n",
    "# print(list(map(kuadrat, nilai)))\n",
    "print(list(map(pangkat_angka, nilai1, nilai2, nilai3)))"
   ]
  },
  {
   "cell_type": "code",
   "execution_count": null,
   "metadata": {
    "ExecuteTime": {
     "end_time": "2021-08-30T08:15:59.459074Z",
     "start_time": "2021-08-30T08:15:59.448104Z"
    }
   },
   "outputs": [],
   "source": [
    "# Define list\n",
    "biodata = ['ziyad', 'syauqi', 'fawwazi']\n",
    "\n",
    "# Apply “list” function to “biodata” list\n",
    "print(list(map(list, biodata)))"
   ]
  },
  {
   "cell_type": "code",
   "execution_count": null,
   "metadata": {
    "ExecuteTime": {
     "end_time": "2021-08-30T08:16:49.789771Z",
     "start_time": "2021-08-30T08:16:49.776805Z"
    }
   },
   "outputs": [],
   "source": [
    "# Define list\n",
    "nilai = [1, 2, 3]\n",
    "\n",
    "#Apply “kuadrat” function to “nilai” list\n",
    "print(list(map(kuadrat, nilai)))\n",
    "print(list(map(lambda i: i**3+10, nilai)))"
   ]
  },
  {
   "cell_type": "markdown",
   "metadata": {},
   "source": [
    "# Packages"
   ]
  },
  {
   "cell_type": "markdown",
   "metadata": {},
   "source": [
    "## 1 Pandas and Numpy"
   ]
  },
  {
   "cell_type": "code",
   "execution_count": null,
   "metadata": {
    "ExecuteTime": {
     "end_time": "2021-08-30T09:47:35.310211Z",
     "start_time": "2021-08-30T09:47:27.155732Z"
    }
   },
   "outputs": [],
   "source": [
    "# Import pandas library\n",
    "import pandas as pd"
   ]
  },
  {
   "cell_type": "code",
   "execution_count": null,
   "metadata": {
    "ExecuteTime": {
     "end_time": "2021-08-30T09:48:12.487757Z",
     "start_time": "2021-08-30T09:48:07.047229Z"
    }
   },
   "outputs": [],
   "source": [
    "!pip install pandas"
   ]
  },
  {
   "cell_type": "code",
   "execution_count": null,
   "metadata": {
    "ExecuteTime": {
     "end_time": "2021-08-30T09:51:51.689094Z",
     "start_time": "2021-08-30T09:51:51.678123Z"
    }
   },
   "outputs": [],
   "source": [
    "# Membuat DataFrame\n",
    "df = pd.DataFrame(columns=['Nama','Mafa'])"
   ]
  },
  {
   "cell_type": "code",
   "execution_count": null,
   "metadata": {
    "ExecuteTime": {
     "end_time": "2021-08-30T09:51:52.078782Z",
     "start_time": "2021-08-30T09:51:52.072798Z"
    }
   },
   "outputs": [],
   "source": [
    "df"
   ]
  },
  {
   "cell_type": "code",
   "execution_count": null,
   "metadata": {
    "ExecuteTime": {
     "end_time": "2021-08-30T09:51:52.529099Z",
     "start_time": "2021-08-30T09:51:52.517122Z"
    }
   },
   "outputs": [],
   "source": [
    "# Memasukkan data\n",
    "df = df.append({'Mafa':'NasGor','Nama':'Ziyad'}, ignore_index=True)\n",
    "df = df.append({'Nama':'Syauqi','Mafa':'Mie Instant'}, ignore_index=True)\n",
    "df['Mifa'] = ['Kopi','Es Teh']\n",
    "df"
   ]
  },
  {
   "cell_type": "code",
   "execution_count": null,
   "metadata": {
    "ExecuteTime": {
     "end_time": "2021-08-30T09:52:43.442544Z",
     "start_time": "2021-08-30T09:52:43.435563Z"
    }
   },
   "outputs": [],
   "source": [
    "# Membuat DataFrame dari Dictionary\n",
    "data = {'Nama':['Ziyad','Syauqi','F'], 'Mafa':['NasGor','Mie Instant','Bakso']}\n",
    "df = pd.DataFrame(data)"
   ]
  },
  {
   "cell_type": "code",
   "execution_count": null,
   "metadata": {
    "ExecuteTime": {
     "end_time": "2021-08-30T09:52:45.019717Z",
     "start_time": "2021-08-30T09:52:45.009747Z"
    }
   },
   "outputs": [],
   "source": [
    "df"
   ]
  },
  {
   "cell_type": "code",
   "execution_count": null,
   "metadata": {
    "ExecuteTime": {
     "end_time": "2021-08-30T09:53:07.037155Z",
     "start_time": "2021-08-30T09:53:07.034159Z"
    }
   },
   "outputs": [],
   "source": [
    "# Import numpy library\n",
    "import numpy as np"
   ]
  },
  {
   "cell_type": "code",
   "execution_count": null,
   "metadata": {
    "ExecuteTime": {
     "end_time": "2021-08-30T09:54:00.195290Z",
     "start_time": "2021-08-30T09:54:00.179334Z"
    }
   },
   "outputs": [],
   "source": [
    "# Membuat Array\n",
    "array_1 = np.array([1, 0, 0, 1])\n",
    "array_2 = np.array([0, 1, 1, 2])\n",
    "print(array_1.reshape(2,2)) #mengubah bentuk array"
   ]
  },
  {
   "cell_type": "code",
   "execution_count": null,
   "metadata": {
    "ExecuteTime": {
     "end_time": "2021-08-30T09:54:04.825304Z",
     "start_time": "2021-08-30T09:54:04.813334Z"
    }
   },
   "outputs": [],
   "source": [
    "print(array_1.reshape(4, 3))"
   ]
  },
  {
   "cell_type": "code",
   "execution_count": null,
   "metadata": {
    "ExecuteTime": {
     "end_time": "2021-08-30T09:54:13.879692Z",
     "start_time": "2021-08-30T09:54:13.866727Z"
    }
   },
   "outputs": [],
   "source": [
    "print([1, 0, 0, 1] + [0, 1, 1, 2])"
   ]
  },
  {
   "cell_type": "code",
   "execution_count": null,
   "metadata": {
    "ExecuteTime": {
     "end_time": "2021-08-30T09:55:14.706571Z",
     "start_time": "2021-08-30T09:55:14.694224Z"
    }
   },
   "outputs": [],
   "source": [
    "print(array_1 + array_2)\n",
    "np.dot(array_1.reshape(1,4), array_2.reshape(4,1)) #perkalian matriks 2 x 2"
   ]
  },
  {
   "cell_type": "code",
   "execution_count": null,
   "metadata": {
    "ExecuteTime": {
     "end_time": "2021-08-30T09:56:17.498070Z",
     "start_time": "2021-08-30T09:56:17.482113Z"
    }
   },
   "outputs": [],
   "source": [
    "# filter\n",
    "print(array_2)\n",
    "np.where(array_2 > 0, 'Yes', 'No')"
   ]
  },
  {
   "cell_type": "markdown",
   "metadata": {},
   "source": [
    "## 2 Matplotlib"
   ]
  },
  {
   "cell_type": "code",
   "execution_count": null,
   "metadata": {
    "ExecuteTime": {
     "end_time": "2021-08-30T10:05:59.151632Z",
     "start_time": "2021-08-30T10:05:58.763666Z"
    }
   },
   "outputs": [],
   "source": [
    "# Import matplotlib library\n",
    "import matplotlib.pyplot as plt"
   ]
  },
  {
   "cell_type": "code",
   "execution_count": null,
   "metadata": {
    "ExecuteTime": {
     "end_time": "2021-08-30T10:07:04.000523Z",
     "start_time": "2021-08-30T10:07:03.860877Z"
    }
   },
   "outputs": [],
   "source": [
    "# Membuat Array\n",
    "array_1 = np.array(range(-10,11))\n",
    "array_2 = np.array(list(map(lambda x : x**2, list(array_1))))\n",
    "\n",
    "# Membuat line plot dari array\n",
    "plt.plot(array_1, array_2)\n",
    "plt.show()"
   ]
  },
  {
   "cell_type": "code",
   "execution_count": null,
   "metadata": {
    "ExecuteTime": {
     "end_time": "2021-08-30T10:08:23.883167Z",
     "start_time": "2021-08-30T10:08:23.783420Z"
    }
   },
   "outputs": [],
   "source": [
    "# Membuat bar plot dari array\n",
    "plt.bar(['Nasgor', 'Bubur Ayam', 'Mie Instant'], [10, 9, 7])\n",
    "plt.show()"
   ]
  },
  {
   "cell_type": "code",
   "execution_count": null,
   "metadata": {
    "ExecuteTime": {
     "end_time": "2021-08-30T10:10:10.331270Z",
     "start_time": "2021-08-30T10:10:10.187678Z"
    }
   },
   "outputs": [],
   "source": [
    "random_array_1 = np.random.randint(1, 100, 100)\n",
    "random_array_2 = np.random.randint(1, 100, 100)\n",
    "\n",
    "# Membuat scatter plot dari array\n",
    "plt.scatter(random_array_1, random_array_2)\n",
    "# plt.scatter(array_1, array_2)\n",
    "plt.show()"
   ]
  },
  {
   "cell_type": "markdown",
   "metadata": {},
   "source": [
    "## 3 Scikit-learn"
   ]
  },
  {
   "cell_type": "code",
   "execution_count": null,
   "metadata": {
    "ExecuteTime": {
     "end_time": "2021-08-30T10:20:33.818211Z",
     "start_time": "2021-08-30T10:20:30.256365Z"
    }
   },
   "outputs": [],
   "source": [
    "# !pip install scikit-learn\n",
    "# Import scikit-learn library\n",
    "import sklearn"
   ]
  },
  {
   "cell_type": "code",
   "execution_count": null,
   "metadata": {},
   "outputs": [],
   "source": [
    "import pandas as pd"
   ]
  },
  {
   "cell_type": "code",
   "execution_count": null,
   "metadata": {
    "ExecuteTime": {
     "end_time": "2021-08-30T10:21:17.015946Z",
     "start_time": "2021-08-30T10:21:14.513209Z"
    }
   },
   "outputs": [],
   "source": [
    "# Scaling, Input Values, Create train and testing data\n",
    "from sklearn.preprocessing import StandardScaler\n",
    "from sklearn.impute import SimpleImputer\n",
    "from sklearn.model_selection import train_test_split"
   ]
  },
  {
   "cell_type": "code",
   "execution_count": null,
   "metadata": {
    "ExecuteTime": {
     "end_time": "2021-08-30T10:21:24.371784Z",
     "start_time": "2021-08-30T10:21:24.327900Z"
    }
   },
   "outputs": [],
   "source": [
    "import sklearn.preprocessing.StandardScaler as ss"
   ]
  },
  {
   "cell_type": "code",
   "execution_count": null,
   "metadata": {
    "ExecuteTime": {
     "end_time": "2021-08-30T10:22:57.791101Z",
     "start_time": "2021-08-30T10:22:57.773148Z"
    }
   },
   "outputs": [],
   "source": [
    "import sklearn.preprocessing as prepro"
   ]
  },
  {
   "cell_type": "code",
   "execution_count": null,
   "metadata": {
    "ExecuteTime": {
     "end_time": "2021-08-30T10:22:58.264833Z",
     "start_time": "2021-08-30T10:22:58.245882Z"
    }
   },
   "outputs": [],
   "source": [
    "prepro.StandardScaler"
   ]
  },
  {
   "cell_type": "code",
   "execution_count": null,
   "metadata": {
    "ExecuteTime": {
     "end_time": "2021-08-30T10:22:58.800459Z",
     "start_time": "2021-08-30T10:22:58.788475Z"
    }
   },
   "outputs": [],
   "source": [
    "StandardScaler"
   ]
  },
  {
   "cell_type": "code",
   "execution_count": null,
   "metadata": {
    "ExecuteTime": {
     "end_time": "2021-07-09T10:53:35.679700Z",
     "start_time": "2021-07-09T10:53:35.662745Z"
    }
   },
   "outputs": [],
   "source": [
    "# Model with variational method from regression, classification, or clustering\n",
    "from sklearn.linear_model import LinearRegression\n",
    "from sklearn.tree import DecisionTreeClassifier\n",
    "from sklearn.cluster import KMeans"
   ]
  },
  {
   "cell_type": "code",
   "execution_count": null,
   "metadata": {
    "ExecuteTime": {
     "end_time": "2021-07-09T10:56:36.203167Z",
     "start_time": "2021-07-09T10:56:36.185215Z"
    }
   },
   "outputs": [],
   "source": [
    "# evaluate and tuning the model using variational method like cross-validation, grid-search\n",
    "from sklearn.metrics import r2_score, accuracy_score, silhouette_score\n",
    "from sklearn.model_selection import cross_validate, GridSearchCV, RandomizedSearchCV"
   ]
  }
 ],
 "metadata": {
  "kernelspec": {
   "display_name": "Python 3 (ipykernel)",
   "language": "python",
   "name": "python3"
  },
  "language_info": {
   "codemirror_mode": {
    "name": "ipython",
    "version": 3
   },
   "file_extension": ".py",
   "mimetype": "text/x-python",
   "name": "python",
   "nbconvert_exporter": "python",
   "pygments_lexer": "ipython3",
   "version": "3.9.7"
  },
  "latex_envs": {
   "LaTeX_envs_menu_present": true,
   "autoclose": false,
   "autocomplete": true,
   "bibliofile": "biblio.bib",
   "cite_by": "apalike",
   "current_citInitial": 1,
   "eqLabelWithNumbers": true,
   "eqNumInitial": 1,
   "hotkeys": {
    "equation": "Ctrl-E",
    "itemize": "Ctrl-I"
   },
   "labels_anchors": false,
   "latex_user_defs": false,
   "report_style_numbering": false,
   "user_envs_cfg": false
  },
  "toc": {
   "base_numbering": 1,
   "nav_menu": {},
   "number_sections": true,
   "sideBar": true,
   "skip_h1_title": false,
   "title_cell": "Table of Contents",
   "title_sidebar": "Contents",
   "toc_cell": false,
   "toc_position": {},
   "toc_section_display": true,
   "toc_window_display": true
  }
 },
 "nbformat": 4,
 "nbformat_minor": 2
}
